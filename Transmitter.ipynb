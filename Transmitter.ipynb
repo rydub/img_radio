{
 "cells": [
  {
   "cell_type": "markdown",
   "metadata": {},
   "source": [
    "## Transmitter"
   ]
  },
  {
   "cell_type": "code",
   "execution_count": 1,
   "metadata": {
    "collapsed": true
   },
   "outputs": [],
   "source": [
    "# Import functions and libraries\n",
    "import numpy as np\n",
    "import matplotlib.pyplot as plt\n",
    "import queue as Queue\n",
    "import time\n",
    "import sys\n",
    "import copy\n",
    "\n",
    "from numpy import pi\n",
    "from numpy import sin\n",
    "from numpy import zeros\n",
    "from numpy import r_\n",
    "from numpy import ones\n",
    "from scipy import signal\n",
    "from scipy import integrate\n",
    "import threading\n",
    "\n",
    "from numpy import mean\n",
    "from numpy import power\n",
    "from numpy.fft import fft\n",
    "from numpy.fft import fftshift\n",
    "from numpy.fft import ifft\n",
    "from numpy.fft import ifftshift\n",
    "import bitarray\n",
    "from  scipy.io.wavfile import read as wavread\n",
    "import newax25 as ax25\n",
    "\n",
    "import multiprocessing\n",
    "\n",
    "from math import gcd\n",
    "import sounddevice as sd\n",
    "import RPi.GPIO as GPIO\n",
    "from functools import reduce\n",
    "from numpy import ones,zeros, pi, cos, exp, sign\n",
    "from queue import *\n",
    "\n",
    "import zlib\n",
    "from PIL import Image\n",
    "import scipy\n",
    "\n",
    "import numpy.ctypeslib as npct\n",
    "from ctypes import c_int\n",
    "from ctypes import c_float\n",
    "\n",
    "from trans_utils import *\n",
    "from proc_funs import *\n",
    "\n",
    "%matplotlib inline"
   ]
  },
  {
   "cell_type": "code",
   "execution_count": 2,
   "metadata": {},
   "outputs": [
    {
     "data": {
      "text/plain": [
       "  0 bcm2835 ALSA: - (hw:0,0), ALSA (0 in, 2 out)\n",
       "  1 bcm2835 ALSA: IEC958/HDMI (hw:0,1), ALSA (0 in, 2 out)\n",
       "  2 USB PnP Sound Device: Audio (hw:1,0), ALSA (1 in, 2 out)\n",
       "  3 sysdefault, ALSA (0 in, 128 out)\n",
       "  4 dmix, ALSA (0 in, 2 out)\n",
       "* 5 default, ALSA (1 in, 2 out)"
      ]
     },
     "execution_count": 2,
     "metadata": {},
     "output_type": "execute_result"
    }
   ],
   "source": [
    "sd.query_devices()"
   ]
  },
  {
   "cell_type": "code",
   "execution_count": 3,
   "metadata": {
    "collapsed": true
   },
   "outputs": [],
   "source": [
    "builtin_idx = 0\n",
    "usb_idx = 2\n",
    "sd.default.samplerate=48000\n",
    "sd.default.channels = 1\n",
    "#cool stuff"
   ]
  },
  {
   "cell_type": "code",
   "execution_count": 4,
   "metadata": {
    "collapsed": true
   },
   "outputs": [],
   "source": [
    "# def queueREPLAY_callback(indata,outdata, frames, time, status):\n",
    "#     if status:\n",
    "#         print(status)\n",
    "#     outdata[:] = indata\n",
    "#     Qin.put( indata.copy()[:,0] )  # Global queue"
   ]
  },
  {
   "cell_type": "markdown",
   "metadata": {},
   "source": [
    "## Make Modem"
   ]
  },
  {
   "cell_type": "markdown",
   "metadata": {},
   "source": [
    "Set up modem arguments"
   ]
  },
  {
   "cell_type": "code",
   "execution_count": 5,
   "metadata": {
    "collapsed": true
   },
   "outputs": [],
   "source": [
    "Abuffer = 512\n",
    "Nchunks = 1\n",
    "fs = 48000\n",
    "modem = TNCaprs(fs = fs ,Abuffer = 512,Nchunks = 1)"
   ]
  },
  {
   "cell_type": "markdown",
   "metadata": {},
   "source": [
    "Set up GPIO pins"
   ]
  },
  {
   "cell_type": "code",
   "execution_count": 6,
   "metadata": {},
   "outputs": [
    {
     "name": "stderr",
     "output_type": "stream",
     "text": [
      "/usr/local/lib/python3.5/dist-packages/ipykernel_launcher.py:3: RuntimeWarning: This channel is already in use, continuing anyway.  Use GPIO.setwarnings(False) to disable warnings.\n",
      "  This is separate from the ipykernel package so we can avoid doing imports until\n"
     ]
    }
   ],
   "source": [
    "GPIO.setmode(GPIO.BOARD)\n",
    "PTT = 12\n",
    "GPIO.setup(PTT, GPIO.OUT, initial = 0)"
   ]
  },
  {
   "cell_type": "markdown",
   "metadata": {},
   "source": [
    "## Transmitter Setup"
   ]
  },
  {
   "cell_type": "code",
   "execution_count": 7,
   "metadata": {
    "collapsed": true
   },
   "outputs": [],
   "source": [
    "callsign = \"KM6QGZ\"\n",
    "img_f_name = 'createrLake.tiff'\n",
    "trans_scalar = 0.2\n",
    "comp_val = 9\n",
    "num_preflags = 80\n",
    "num_postflags = 80\n",
    "for_proc_fun, rev_proc_fun = down_up_samp(12, 18, (432, 1200))"
   ]
  },
  {
   "cell_type": "markdown",
   "metadata": {},
   "source": [
    "## Process Image to Bytes and Compress"
   ]
  },
  {
   "cell_type": "code",
   "execution_count": 8,
   "metadata": {},
   "outputs": [
    {
     "name": "stdout",
     "output_type": "stream",
     "text": [
      "Compressed by:  0.010503040353786623\n"
     ]
    }
   ],
   "source": [
    "bytes_to_comp, shapes = for_proc_fun(img_f_name)\n",
    "bytes_comp = zlib.compress(bytes_to_comp, comp_val)\n",
    "print('Compressed by: ', comp_rate(bytes_to_comp, bytes_comp))"
   ]
  },
  {
   "cell_type": "code",
   "execution_count": 9,
   "metadata": {},
   "outputs": [
    {
     "name": "stdout",
     "output_type": "stream",
     "text": [
      "7160\n"
     ]
    }
   ],
   "source": [
    "print(len(bytes_comp))"
   ]
  },
  {
   "cell_type": "code",
   "execution_count": 10,
   "metadata": {},
   "outputs": [
    {
     "data": {
      "text/plain": [
       "[(36, 67), (36, 67), (36, 67)]"
      ]
     },
     "execution_count": 10,
     "metadata": {},
     "output_type": "execute_result"
    }
   ],
   "source": [
    "shapes"
   ]
  },
  {
   "cell_type": "markdown",
   "metadata": {},
   "source": [
    "## Make and Modulate Packets"
   ]
  },
  {
   "cell_type": "code",
   "execution_count": 11,
   "metadata": {},
   "outputs": [
    {
     "ename": "SyntaxError",
     "evalue": "invalid syntax (<ipython-input-11-bf2810af409f>, line 2)",
     "output_type": "error",
     "traceback": [
      "\u001b[0;36m  File \u001b[0;32m\"<ipython-input-11-bf2810af409f>\"\u001b[0;36m, line \u001b[0;32m2\u001b[0m\n\u001b[0;31m    str_nancy =\u001b[0m\n\u001b[0m                ^\u001b[0m\n\u001b[0;31mSyntaxError\u001b[0m\u001b[0;31m:\u001b[0m invalid syntax\n"
     ]
    }
   ],
   "source": [
    "negative_nancy = [shapes[0][0], shapes[0][1], shapes[1][0], shapes[1][1], shapes[2][0], shapes[2][1]]\n",
    "str_nancy = "
   ]
  },
  {
   "cell_type": "code",
   "execution_count": 12,
   "metadata": {},
   "outputs": [
    {
     "name": "stdout",
     "output_type": "stream",
     "text": [
      "Putting packets in Queue\n",
      "Done\n",
      "28 total packets.\n"
     ]
    }
   ],
   "source": [
    "print(\"Putting packets in Queue\")\n",
    "\n",
    "# For you to complete\n",
    "Qout = Queue()\n",
    "dest_int = 1\n",
    "block_size = 256\n",
    "\n",
    "for start_ind in range(0,len(bytes_comp), block_size):\n",
    "    curr_block = bytes_comp[start_ind:min(start_ind+block_size, len(bytes_comp))]\n",
    "    Qout.put(modem.modulatPacketAX25('', b'', str(dest_int), curr_block, preflags=num_preflags, postflags=num_postflags))\n",
    "    dest_int += 1\n",
    "print(\"Done\")\n",
    "print(str(Qout.qsize()) + ' total packets.')"
   ]
  },
  {
   "cell_type": "markdown",
   "metadata": {},
   "source": [
    "## Transmit Packets"
   ]
  },
  {
   "cell_type": "code",
   "execution_count": 13,
   "metadata": {},
   "outputs": [
    {
     "name": "stdout",
     "output_type": "stream",
     "text": [
      "Packet 1/28\n",
      "Packet 2/28\n",
      "Packet 3/28\n",
      "Packet 4/28\n",
      "Packet 5/28\n",
      "Packet 6/28\n",
      "Packet 7/28\n",
      "Packet 8/28\n",
      "Packet 9/28\n",
      "Packet 10/28\n",
      "Packet 11/28\n",
      "Packet 12/28\n",
      "Packet 13/28\n",
      "Packet 14/28\n",
      "Packet 15/28\n",
      "Packet 16/28\n",
      "Packet 17/28\n",
      "Packet 18/28\n",
      "Packet 19/28\n",
      "Packet 20/28\n",
      "Packet 21/28\n",
      "Packet 22/28\n",
      "Packet 23/28\n",
      "Packet 24/28\n",
      "Packet 25/28\n",
      "Packet 26/28\n",
      "Packet 27/28\n",
      "Packet 28/28\n",
      "Done\n",
      "42.71046495437622\n"
     ]
    }
   ],
   "source": [
    "starttime = time.time()\n",
    "\n",
    "GPIO.output(PTT, GPIO.HIGH)\n",
    "time.sleep(0.25)\n",
    "num_pks = Qout.qsize()\n",
    "for n in range(Qout.qsize()):\n",
    "    curr_packet = Qout.get()\n",
    "    print('Packet '+str(n+1)+'/'+str(num_pks))\n",
    "    sd.play(curr_packet*trans_scalar,device=usb_idx,blocking=True)\n",
    "GPIO.output(PTT, GPIO.LOW)\n",
    "\n",
    "print(\"Done\")\n",
    "print(time.time() - starttime)"
   ]
  },
  {
   "cell_type": "code",
   "execution_count": null,
   "metadata": {
    "collapsed": true
   },
   "outputs": [],
   "source": []
  }
 ],
 "metadata": {
  "kernelspec": {
   "display_name": "Python 3",
   "language": "python",
   "name": "python3"
  },
  "language_info": {
   "codemirror_mode": {
    "name": "ipython",
    "version": 3
   },
   "file_extension": ".py",
   "mimetype": "text/x-python",
   "name": "python",
   "nbconvert_exporter": "python",
   "pygments_lexer": "ipython3",
   "version": "3.6.1"
  }
 },
 "nbformat": 4,
 "nbformat_minor": 2
}
