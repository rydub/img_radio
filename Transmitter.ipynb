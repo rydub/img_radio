{
 "cells": [
  {
   "cell_type": "markdown",
   "metadata": {},
   "source": [
    "## Transmitter"
   ]
  },
  {
   "cell_type": "code",
   "execution_count": 1,
   "metadata": {},
   "outputs": [],
   "source": [
    "# Import functions and libraries\n",
    "import numpy as np\n",
    "import matplotlib.pyplot as plt\n",
    "import queue as Queue\n",
    "import time\n",
    "import sys\n",
    "import copy\n",
    "\n",
    "from numpy import pi\n",
    "from numpy import sin\n",
    "from numpy import zeros\n",
    "from numpy import r_\n",
    "from numpy import ones\n",
    "from scipy import signal\n",
    "from scipy import integrate\n",
    "import threading\n",
    "\n",
    "from numpy import mean\n",
    "from numpy import power\n",
    "from numpy.fft import fft\n",
    "from numpy.fft import fftshift\n",
    "from numpy.fft import ifft\n",
    "from numpy.fft import ifftshift\n",
    "import bitarray\n",
    "from  scipy.io.wavfile import read as wavread\n",
    "import newax25 as ax25\n",
    "\n",
    "import multiprocessing\n",
    "\n",
    "from math import gcd\n",
    "import sounddevice as sd\n",
    "import RPi.GPIO as GPIO\n",
    "from functools import reduce\n",
    "from numpy import ones,zeros, pi, cos, exp, sign\n",
    "from queue import *\n",
    "\n",
    "import zlib\n",
    "from PIL import Image\n",
    "import scipy\n",
    "\n",
    "import numpy.ctypeslib as npct\n",
    "from ctypes import c_int\n",
    "from ctypes import c_float\n",
    "\n",
    "from trans_utils import *\n",
    "from proc_funs import *\n",
    "\n",
    "%matplotlib inline"
   ]
  },
  {
   "cell_type": "code",
   "execution_count": 2,
   "metadata": {},
   "outputs": [
    {
     "data": {
      "text/plain": [
       "  0 bcm2835 ALSA: - (hw:0,0), ALSA (0 in, 2 out)\n",
       "  1 bcm2835 ALSA: IEC958/HDMI (hw:0,1), ALSA (0 in, 2 out)\n",
       "  2 USB PnP Sound Device: Audio (hw:1,0), ALSA (1 in, 2 out)\n",
       "  3 sysdefault, ALSA (0 in, 128 out)\n",
       "  4 dmix, ALSA (0 in, 2 out)\n",
       "* 5 default, ALSA (1 in, 2 out)"
      ]
     },
     "execution_count": 2,
     "metadata": {},
     "output_type": "execute_result"
    }
   ],
   "source": [
    "sd.query_devices()"
   ]
  },
  {
   "cell_type": "code",
   "execution_count": 3,
   "metadata": {},
   "outputs": [],
   "source": [
    "builtin_idx = 0\n",
    "usb_idx = 2\n",
    "sd.default.samplerate=48000\n",
    "sd.default.channels = 1"
   ]
  },
  {
   "cell_type": "code",
   "execution_count": 4,
   "metadata": {},
   "outputs": [],
   "source": [
    "# def queueREPLAY_callback(indata,outdata, frames, time, status):\n",
    "#     if status:\n",
    "#         print(status)\n",
    "#     outdata[:] = indata\n",
    "#     Qin.put( indata.copy()[:,0] )  # Global queue"
   ]
  },
  {
   "cell_type": "markdown",
   "metadata": {},
   "source": [
    "## Make Modem"
   ]
  },
  {
   "cell_type": "markdown",
   "metadata": {},
   "source": [
    "Set up modem arguments"
   ]
  },
  {
   "cell_type": "code",
   "execution_count": 5,
   "metadata": {},
   "outputs": [],
   "source": [
    "Abuffer = 512\n",
    "Nchunks = 1\n",
    "fs = 48000\n",
    "modem = TNCaprs(fs = fs ,Abuffer = 512,Nchunks = 1)"
   ]
  },
  {
   "cell_type": "markdown",
   "metadata": {},
   "source": [
    "Set up GPIO pins"
   ]
  },
  {
   "cell_type": "code",
   "execution_count": 6,
   "metadata": {},
   "outputs": [
    {
     "name": "stderr",
     "output_type": "stream",
     "text": [
      "/usr/local/lib/python3.5/dist-packages/ipykernel_launcher.py:3: RuntimeWarning: This channel is already in use, continuing anyway.  Use GPIO.setwarnings(False) to disable warnings.\n",
      "  This is separate from the ipykernel package so we can avoid doing imports until\n"
     ]
    }
   ],
   "source": [
    "GPIO.setmode(GPIO.BOARD)\n",
    "PTT = 12\n",
    "GPIO.setup(PTT, GPIO.OUT, initial = 0)"
   ]
  },
  {
   "cell_type": "markdown",
   "metadata": {},
   "source": [
    "## Transmitter Setup"
   ]
  },
  {
   "cell_type": "code",
   "execution_count": 7,
   "metadata": {},
   "outputs": [],
   "source": [
    "callsign = \"KM6QGZ\"\n",
    "img_f_name = 'createrLake.tiff'\n",
    "trans_scalar = 0.2\n",
    "comp_val = 1\n",
    "num_preflags = 80\n",
    "num_postflags = 80\n",
    "for_proc_fun, rev_proc_fun = color_proc()"
   ]
  },
  {
   "cell_type": "markdown",
   "metadata": {},
   "source": [
    "## Process Image to Bytes and Compress"
   ]
  },
  {
   "cell_type": "code",
   "execution_count": 55,
   "metadata": {},
   "outputs": [
    {
     "name": "stdout",
     "output_type": "stream",
     "text": [
      "Compressed by:  0.4039560942144981\n"
     ]
    }
   ],
   "source": [
    "bytes_to_comp, shapes = for_proc_fun(img_f_name)\n",
    "bytes_comp = zlib.compress(bytes_to_comp, comp_val)\n",
    "print('Compressed by: ', comp_rate(bytes_to_comp, bytes_comp))"
   ]
  },
  {
   "cell_type": "markdown",
   "metadata": {},
   "source": [
    "## Make and Modulate Packets"
   ]
  },
  {
   "cell_type": "code",
   "execution_count": 56,
   "metadata": {},
   "outputs": [
    {
     "name": "stdout",
     "output_type": "stream",
     "text": [
      "Putting packets in Queue\n",
      "Done\n"
     ]
    }
   ],
   "source": [
    "print(\"Putting packets in Queue\")\n",
    "\n",
    "# For you to complete\n",
    "Qout = Queue()\n",
    "dest_int = 1\n",
    "block_size = 256\n",
    "q_test = Queue()\n",
    "for start_ind in range(0,len(bytes_comp), block_size):\n",
    "    curr_block = bytes_comp[start_ind:min(start_ind+block_size, len(bytes_comp))]\n",
    "    q_test.put(curr_block)\n",
    "    Qout.put(modem.modulatPacketAX25('', b'', str(dest_int), curr_block, preflags=num_preflags, postflags=num_postflags))\n",
    "    dest_int += 1\n",
    "print(\"Done\")"
   ]
  },
  {
   "cell_type": "markdown",
   "metadata": {},
   "source": [
    "## Transmit Packets"
   ]
  },
  {
   "cell_type": "code",
   "execution_count": 60,
   "metadata": {},
   "outputs": [
    {
     "name": "stdout",
     "output_type": "stream",
     "text": [
      "Packet 1/21\n",
      "Packet 2/21\n",
      "Packet 3/21\n",
      "Packet 4/21\n",
      "Packet 5/21\n",
      "Packet 6/21\n",
      "Packet 7/21\n",
      "Packet 8/21\n",
      "Packet 9/21\n",
      "Packet 10/21\n",
      "Packet 11/21\n",
      "Packet 12/21\n",
      "Packet 13/21\n",
      "Packet 14/21\n",
      "Packet 15/21\n",
      "Packet 16/21\n",
      "Packet 17/21\n",
      "Packet 18/21\n",
      "Packet 19/21\n",
      "Packet 20/21\n",
      "Packet 21/21\n",
      "Done\n",
      "31.56394124031067\n"
     ]
    }
   ],
   "source": [
    "starttime = time.time()\n",
    "\n",
    "GPIO.output(PTT, GPIO.HIGH)\n",
    "time.sleep(0.25)\n",
    "num_pks = Qout.qsize()\n",
    "for n in range(Qout.qsize()):\n",
    "    curr_packet = Qout.get()\n",
    "    print('Packet '+str(n+1)+'/'+str(num_pks))\n",
    "    sd.play(curr_packet*trans_scalar,device=usb_idx,blocking=True)\n",
    "GPIO.output(PTT, GPIO.LOW)\n",
    "\n",
    "print(\"Done\")\n",
    "print(time.time() - starttime)"
   ]
  },
  {
   "cell_type": "code",
   "execution_count": null,
   "metadata": {},
   "outputs": [],
   "source": []
  }
 ],
 "metadata": {
  "kernelspec": {
   "display_name": "Python 3",
   "language": "python",
   "name": "python3"
  },
  "language_info": {
   "codemirror_mode": {
    "name": "ipython",
    "version": 3
   },
   "file_extension": ".py",
   "mimetype": "text/x-python",
   "name": "python",
   "nbconvert_exporter": "python",
   "pygments_lexer": "ipython3",
   "version": "3.5.3"
  }
 },
 "nbformat": 4,
 "nbformat_minor": 2
}
